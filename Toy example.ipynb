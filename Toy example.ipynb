{
 "cells": [
  {
   "cell_type": "markdown",
   "metadata": {},
   "source": [
    "# toy example for compex posterior"
   ]
  },
  {
   "cell_type": "code",
   "execution_count": 24,
   "metadata": {},
   "outputs": [],
   "source": [
    "import numpy as np\n",
    "import matplotlib.pyplot as plt\n",
    "from scipy.stats import kde\n",
    "import seaborn as sns\n",
    "from scipy.stats import multivariate_normal"
   ]
  },
  {
   "cell_type": "code",
   "execution_count": 25,
   "metadata": {},
   "outputs": [],
   "source": [
    "theta_true = np.array([0.7,-2.9,-1,-0.9,0.6])\n",
    "m_true = theta_true[0:2]\n",
    "s1 = np.square(theta_true[2])\n",
    "s2 = np.square(theta_true[3])\n",
    "rho = np.tanh(theta_true[4])\n",
    "S_true = np.array([[np.square(s1), rho*s1*s2],[rho*s1*s2, np.square(s2)]])"
   ]
  },
  {
   "cell_type": "code",
   "execution_count": 26,
   "metadata": {},
   "outputs": [],
   "source": [
    "n_sample = 4\n",
    "n_para = 5\n",
    "ys = np.zeros(2*n_sample).reshape(n_sample,2)\n",
    "\n",
    "for i in range(n_sample):\n",
    "    ys[i] = np.random.multivariate_normal(m_true,S_true)"
   ]
  },
  {
   "cell_type": "code",
   "execution_count": 27,
   "metadata": {},
   "outputs": [
    {
     "data": {
      "text/plain": [
       "<seaborn.axisgrid.JointGrid at 0x7f8eb01f5a90>"
      ]
     },
     "execution_count": 27,
     "metadata": {},
     "output_type": "execute_result"
    },
    {
     "data": {
      "image/png": "[encoded data removed]",
      "text/plain": [
       "<Figure size 432x432 with 3 Axes>"
      ]
     },
     "metadata": {
      "needs_background": "light"
     },
     "output_type": "display_data"
    }
   ],
   "source": [
    "sns.jointplot(x=ys[:,0], y=ys[:,1], kind='kde')"
   ]
  },
  {
   "cell_type": "code",
   "execution_count": 28,
   "metadata": {
    "scrolled": true
   },
   "outputs": [],
   "source": [
    "def posterior(data,n_samples,theta_prop):\n",
    "    m_prop = theta_prop[0:2]\n",
    "    s1_prop = np.square(theta_prop[2])\n",
    "    s2_prop = np.square(theta_prop[3])\n",
    "    rho_prop = np.tanh(theta_prop[4])\n",
    "    S_prop = np.array([[np.square(s1_prop), rho_prop*s1_prop*s2_prop],\n",
    "                       [rho_prop*s1_prop*s2_prop, np.square(s2_prop)]])\n",
    "    \n",
    "    likelihood = 1\n",
    "    for i in range(n_samples):\n",
    "        likelihood = likelihood * multivariate_normal.pdf(data[i],m_prop,S_prop)\n",
    "        \n",
    "    return likelihood"
   ]
  },
  {
   "cell_type": "code",
   "execution_count": 29,
   "metadata": {},
   "outputs": [
    {
     "data": {
      "text/plain": [
       "8.75158779264884e-05"
      ]
     },
     "execution_count": 29,
     "metadata": {},
     "output_type": "execute_result"
    }
   ],
   "source": [
    "posterior(ys,n_sample,theta_true)"
   ]
  },
  {
   "cell_type": "code",
   "execution_count": 30,
   "metadata": {},
   "outputs": [],
   "source": [
    "def generate_x0(theta_prop):\n",
    "    m_prop = theta_prop[0:2]\n",
    "    s1_prop = np.square(theta_prop[2])\n",
    "    s2_prop = np.square(theta_prop[3])\n",
    "    rho_prop = np.tanh(theta_prop[4])\n",
    "    S_prop = np.array([[np.square(s1_prop), rho_prop*s1_prop*s2_prop],\n",
    "                       [rho_prop*s1_prop*s2_prop, np.square(s2_prop)]])\n",
    "    \n",
    "    data = np.zeros(8).reshape(4,2)\n",
    "    for j in range(4):\n",
    "        data[j] = np.random.multivariate_normal(m_prop,S_prop)\n",
    "        \n",
    "    return data"
   ]
  },
  {
   "cell_type": "code",
   "execution_count": 55,
   "metadata": {
    "scrolled": true
   },
   "outputs": [],
   "source": [
    "n_dim = 100000\n",
    "exact_sample = []\n",
    "x0 = np.random.uniform(low=-3.0, high=3.0, size=5)\n",
    "exact_sample.append(x0)\n",
    "\n",
    "for i in range(n_dim):\n",
    "    theta_prop = np.random.uniform(low=-3.0, high=3.0, size=5)\n",
    "    m_prop = theta_prop[0:2]\n",
    "    s1_prop = np.square(theta_prop[2])\n",
    "    s2_prop = np.square(theta_prop[3])\n",
    "    rho_prop = np.tanh(theta_prop[4])\n",
    "    S_prop = np.array([[np.square(s1_prop), rho_prop*s1_prop*s2_prop],\n",
    "                       [rho_prop*s1_prop*s2_prop, np.square(s2_prop)]])\n",
    "    \n",
    "    data = np.zeros(8).reshape(4,2)\n",
    "    for j in range(4):\n",
    "        data[j] = np.random.multivariate_normal(m_prop,S_prop)\n",
    "\n",
    "    alpha = min(1,posterior(data,4,theta_true)/posterior(ys,4,theta_true))\n",
    "    u = np.random.rand()\n",
    "    if u <= alpha:\n",
    "        exact_sample.append(theta_prop)\n",
    "               \n",
    "            \n",
    "exact_sample = np.asarray(exact_sample)"
   ]
  },
  {
   "cell_type": "code",
   "execution_count": 56,
   "metadata": {
    "scrolled": true
   },
   "outputs": [
    {
     "data": {
      "text/plain": [
       "array([[-1.54279811,  2.8982689 , -2.51222149,  1.38924496, -2.67105043],\n",
       "       [ 0.7868464 , -2.08585636,  0.66470476, -0.28525686,  0.83627055],\n",
       "       [ 1.51283133, -2.70775192, -1.19568159, -0.3983505 , -1.36554337],\n",
       "       ...,\n",
       "       [ 0.97460708, -1.7045578 ,  0.26432879, -0.51653488, -1.57687953],\n",
       "       [ 1.80192102, -2.51191859, -1.40121038,  0.37587394, -0.72683493],\n",
       "       [-0.44529839, -2.47426393, -0.47289593,  0.87957211,  0.57871663]])"
      ]
     },
     "execution_count": 56,
     "metadata": {},
     "output_type": "execute_result"
    }
   ],
   "source": [
    "exact_sample"
   ]
  },
  {
   "cell_type": "code",
   "execution_count": 57,
   "metadata": {},
   "outputs": [
    {
     "data": {
      "text/plain": [
       "<matplotlib.collections.PathCollection at 0x7f8ee0b2ea90>"
      ]
     },
     "execution_count": 57,
     "metadata": {},
     "output_type": "execute_result"
    },
    {
     "data": {
      "image/png": "[encoded data removed]",
      "text/plain": [
       "<Figure size 432x288 with 1 Axes>"
      ]
     },
     "metadata": {
      "needs_background": "light"
     },
     "output_type": "display_data"
    }
   ],
   "source": [
    "plt.scatter(exact_sample[:,1],exact_sample[:,2])"
   ]
  },
  {
   "cell_type": "code",
   "execution_count": 62,
   "metadata": {},
   "outputs": [
    {
     "data": {
      "text/plain": [
       "<matplotlib.collections.LineCollection at 0x7f8ee0d14c40>"
      ]
     },
     "execution_count": 62,
     "metadata": {},
     "output_type": "execute_result"
    },
    {
     "data": {
      "image/png": "[encoded data removed]",
      "text/plain": [
       "<Figure size 432x288 with 1 Axes>"
      ]
     },
     "metadata": {
      "needs_background": "light"
     },
     "output_type": "display_data"
    }
   ],
   "source": [
    "plt.hist(exact_sample[:,4], bins=100)\n",
    "plt.vlines(x=.6,ymin = 0,ymax = 20)"
   ]
  },
  {
   "cell_type": "markdown",
   "metadata": {},
   "source": [
    "## SNL"
   ]
  },
  {
   "cell_type": "code",
   "execution_count": null,
   "metadata": {},
   "outputs": [],
   "source": []
  }
 ],
 "metadata": {
  "kernelspec": {
   "display_name": "Python 3",
   "language": "python",
   "name": "python3"
  },
  "language_info": {
   "codemirror_mode": {
    "name": "ipython",
    "version": 3
   },
   "file_extension": ".py",
   "mimetype": "text/x-python",
   "name": "python",
   "nbconvert_exporter": "python",
   "pygments_lexer": "ipython3",
   "version": "3.8.3"
  }
 },
 "nbformat": 4,
 "nbformat_minor": 4
}
